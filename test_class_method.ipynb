{
 "cells": [
  {
   "cell_type": "code",
   "execution_count": 11,
   "metadata": {},
   "outputs": [],
   "source": [
    "class Animals:\n",
    "    #class attribute\n",
    "    home = 'zoo'\n",
    "\n",
    "    #instance attribute\n",
    "    def __init__(self, animal_name, animal_age):\n",
    "        self.name = animal_name\n",
    "        self.age = animal_age\n",
    "\n",
    "    #class method:\n",
    "    @classmethod\n",
    "    def change_home_class(cls,animal_new_home):\n",
    "        cls.home = animal_new_home\n",
    "\n",
    "    @classmethod\n",
    "    def change_name_class(cls,animal_new_name):\n",
    "        cls.name = animal_new_name\n",
    "\n",
    "    def change_name(self, animal_new_name):\n",
    "        self.name = animal_new_name\n",
    "\n",
    "    def change_home(self, animal_new_home):\n",
    "        self.home = animal_new_home"
   ]
  },
  {
   "cell_type": "code",
   "execution_count": 12,
   "metadata": {},
   "outputs": [],
   "source": [
    "lion = Animals('lion', 3)"
   ]
  },
  {
   "cell_type": "code",
   "execution_count": 13,
   "metadata": {},
   "outputs": [
    {
     "name": "stdout",
     "output_type": "stream",
     "text": [
      "lion\n",
      "zoo\n",
      "3\n"
     ]
    }
   ],
   "source": [
    "# view all attr\n",
    "print(lion.name)\n",
    "print(lion.home)\n",
    "print(lion.age)"
   ]
  },
  {
   "cell_type": "code",
   "execution_count": 14,
   "metadata": {},
   "outputs": [
    {
     "name": "stdout",
     "output_type": "stream",
     "text": [
      "zoo\n"
     ]
    }
   ],
   "source": [
    "# attr of class\n",
    "print(Animals.home)"
   ]
  },
  {
   "cell_type": "code",
   "execution_count": 15,
   "metadata": {},
   "outputs": [
    {
     "ename": "AttributeError",
     "evalue": "type object 'Animals' has no attribute 'name'",
     "output_type": "error",
     "traceback": [
      "\u001b[0;31m---------------------------------------------------------------------------\u001b[0m",
      "\u001b[0;31mAttributeError\u001b[0m                            Traceback (most recent call last)",
      "Cell \u001b[0;32mIn[15], line 2\u001b[0m\n\u001b[1;32m      1\u001b[0m \u001b[39m# check: call instance attr from class\u001b[39;00m\n\u001b[0;32m----> 2\u001b[0m \u001b[39mprint\u001b[39m(Animals\u001b[39m.\u001b[39;49mname)\n",
      "\u001b[0;31mAttributeError\u001b[0m: type object 'Animals' has no attribute 'name'"
     ]
    }
   ],
   "source": [
    "# check: call instance attr from class\n",
    "print(Animals.name)"
   ]
  },
  {
   "cell_type": "code",
   "execution_count": 16,
   "metadata": {},
   "outputs": [],
   "source": [
    "# try to modify instance name by class method\n",
    "lion.change_name_class('lion king')"
   ]
  },
  {
   "cell_type": "code",
   "execution_count": 17,
   "metadata": {},
   "outputs": [
    {
     "name": "stdout",
     "output_type": "stream",
     "text": [
      "lion\n",
      "lion king\n"
     ]
    }
   ],
   "source": [
    "# check result, it have a new class attr but instance attr have no change\n",
    "print(lion.name)\n",
    "print(Animals.name)"
   ]
  },
  {
   "cell_type": "code",
   "execution_count": 18,
   "metadata": {},
   "outputs": [],
   "source": [
    "# the right method to change instance and class attr\n",
    "lion.change_name('lion king')\n",
    "lion.change_home_class('forest')"
   ]
  },
  {
   "cell_type": "code",
   "execution_count": 19,
   "metadata": {},
   "outputs": [
    {
     "name": "stdout",
     "output_type": "stream",
     "text": [
      "lion king\n",
      "forest\n",
      "3\n"
     ]
    }
   ],
   "source": [
    "# final results\n",
    "print(lion.name)\n",
    "print(lion.home)\n",
    "print(lion.age)"
   ]
  },
  {
   "cell_type": "code",
   "execution_count": 20,
   "metadata": {},
   "outputs": [],
   "source": [
    "# change class attr by instance method\n",
    "lion.change_home('jungle')"
   ]
  },
  {
   "cell_type": "code",
   "execution_count": 21,
   "metadata": {},
   "outputs": [
    {
     "name": "stdout",
     "output_type": "stream",
     "text": [
      "lion king\n",
      "jungle\n",
      "3\n"
     ]
    }
   ],
   "source": [
    "print(lion.name)\n",
    "print(lion.home)\n",
    "print(lion.age)"
   ]
  },
  {
   "cell_type": "code",
   "execution_count": 22,
   "metadata": {},
   "outputs": [
    {
     "name": "stdout",
     "output_type": "stream",
     "text": [
      "forest\n",
      "jungle\n"
     ]
    }
   ],
   "source": [
    "print(Animals.home)\n",
    "print(lion.home)"
   ]
  },
  {
   "cell_type": "code",
   "execution_count": null,
   "metadata": {},
   "outputs": [],
   "source": []
  }
 ],
 "metadata": {
  "kernelspec": {
   "display_name": "Python 3",
   "language": "python",
   "name": "python3"
  },
  "language_info": {
   "codemirror_mode": {
    "name": "ipython",
    "version": 3
   },
   "file_extension": ".py",
   "mimetype": "text/x-python",
   "name": "python",
   "nbconvert_exporter": "python",
   "pygments_lexer": "ipython3",
   "version": "3.10.10"
  },
  "orig_nbformat": 4
 },
 "nbformat": 4,
 "nbformat_minor": 2
}
